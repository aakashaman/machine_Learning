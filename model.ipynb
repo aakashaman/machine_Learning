{
 "cells": [
  {
   "cell_type": "code",
   "execution_count": 9,
   "metadata": {},
   "outputs": [],
   "source": [
    "import numpy as np\n",
    "import pandas as pd\n",
    "import xgboost as xgb\n",
    "import random\n",
    "import datetime as dt\n",
    "import gc\n",
    "import plotly\n",
    "from sklearn.cluster import KMeans\n",
    "import matplotlib.pyplot as plt\n",
    "\n",
    "import seaborn as sns"
   ]
  },
  {
   "cell_type": "code",
   "execution_count": 15,
   "metadata": {},
   "outputs": [
    {
     "name": "stderr",
     "output_type": "stream",
     "text": [
      "C:\\Users\\aakas\\AppData\\Local\\Temp\\ipykernel_9100\\640958946.py:10: DtypeWarning: Columns (22,32,34,49,55) have mixed types. Specify dtype option on import or set low_memory=False.\n",
      "  properties = pd.read_csv('properties_2016.csv')\n"
     ]
    }
   ],
   "source": [
    "color = sns.color_palette()\n",
    "\n",
    "#%matplotlib inline\n",
    "np.random.seed(1)\n",
    "###Load the Datasets ###\n",
    "\n",
    "# We need to load the datasets that will be needed to train our machine learning algorithms, handle our data and make predictions. Note that these datasets are the ones that are already provided once you enter the competition by accepting terms and conditions #\n",
    "\n",
    "train = pd.read_csv('train_2016_v2.csv' ) \n",
    "properties = pd.read_csv('properties_2016.csv')   \n",
    "test = pd.read_csv('sample_submission.csv') \n",
    "test= test.rename(columns={'ParcelId': 'parcelid'}) #To make it easier for merging datasets on same column_id later\n"
   ]
  },
  {
   "cell_type": "code",
   "execution_count": 16,
   "metadata": {},
   "outputs": [
    {
     "name": "stdout",
     "output_type": "stream",
     "text": [
      "Training Size:(90275, 3)\n",
      "Property Size:(2985217, 58)\n",
      "Sample Size:(2985217, 7)\n"
     ]
    }
   ],
   "source": [
    "### Analyse the Dimensions of our Datasets.\n",
    "\n",
    "print(\"Training Size:\" + str(train.shape))\n",
    "print(\"Property Size:\" + str(properties.shape))\n",
    "print(\"Sample Size:\" + str(test.shape))\n"
   ]
  },
  {
   "cell_type": "code",
   "execution_count": 17,
   "metadata": {},
   "outputs": [],
   "source": [
    "### Type Converting the DataSet ###\n",
    "\n",
    "# The processing of some of the algorithms can be made quick if data representation is made in int/float32 instead of int/float64. Therefore, in order to make sure that all of our columns types are in float32, we are implementing the following lines of code #\n",
    "\n",
    "\n",
    "for c, dtype in zip(properties.columns, properties.dtypes):\n",
    "    if dtype == np.float64:        \n",
    "        properties[c] = properties[c].astype(np.float32)\n",
    "    if dtype == np.int64:\n",
    "        properties[c] = properties[c].astype(np.int32)\n",
    "\n",
    "\n",
    "for column in test.columns:\n",
    "    if test[column].dtype == int:\n",
    "        test[column] = test[column].astype(np.int32)\n",
    "    if test[column].dtype == float:\n",
    "        test[column] = test[column].astype(np.float32)\n",
    "\n",
    "\n",
    "### Let's do some feature engineering\n"
   ]
  },
  {
   "cell_type": "code",
   "execution_count": 18,
   "metadata": {},
   "outputs": [],
   "source": [
    "#living area proportions \n",
    "properties['living_area_prop'] = properties['calculatedfinishedsquarefeet'] / properties['lotsizesquarefeet']\n",
    "#tax value ratio\n",
    "properties['value_ratio'] = properties['taxvaluedollarcnt'] / properties['taxamount']\n",
    "#tax value proportions\n",
    "properties['value_prop'] = properties['structuretaxvaluedollarcnt'] / properties['landtaxvaluedollarcnt']\n",
    "\n",
    "\n",
    "###Merging the Datasets ###\n",
    "\n",
    "# We are merging the properties dataset with training and testing dataset for model building and testing prediction #\n",
    "\n",
    "df_train = train.merge(properties, how='left', on='parcelid') \n",
    "df_test = test.merge(properties, how='left', on='parcelid')\n"
   ]
  },
  {
   "cell_type": "code",
   "execution_count": 19,
   "metadata": {},
   "outputs": [
    {
     "name": "stdout",
     "output_type": "stream",
     "text": [
      "Memory usage reduction...\n"
     ]
    }
   ],
   "source": [
    "### Remove previos variables to keep some memory\n",
    "del properties, train\n",
    "gc.collect();\n",
    "\n",
    "\n",
    "print('Memory usage reduction...')\n",
    "df_train[['latitude', 'longitude']] /= 1e6\n",
    "df_test[['latitude', 'longitude']] /= 1e6\n",
    "\n",
    "df_train['censustractandblock'] /= 1e12\n",
    "df_test['censustractandblock'] /= 1e12\n",
    "\n",
    "\n",
    "### Let's do some pre-exploratory analysis to identify how much missing values do we have in our datasets. \n",
    "### Thanks to Nikunj-Carefully dealing with missing values. Ref. https://www.kaggle.com/nikunjm88/carefully-dealing-with-missing-values \n"
   ]
  },
  {
   "cell_type": "code",
   "execution_count": 20,
   "metadata": {},
   "outputs": [
    {
     "name": "stdout",
     "output_type": "stream",
     "text": [
      "90053\n",
      "80668\n"
     ]
    }
   ],
   "source": [
    "# Let's do some engineering with fireplaceflag variable.\n",
    "\n",
    "print(df_train.fireplaceflag.isnull().sum())\n",
    "print(df_train.fireplacecnt.isnull().sum())\n",
    "# By using fireplacecnt variable we can recover some fields of fireplaceflag\n",
    "\n",
    "df_train['fireplaceflag']= \"No\"\n",
    "df_train.loc[df_train['fireplacecnt']>0,'fireplaceflag']= \"Yes\"\n",
    "\n",
    "# Remaining Missing fireplacecnt will be replaced with 0.\n",
    "index = df_train.fireplacecnt.isnull()\n",
    "df_train.loc[index,'fireplacecnt'] = 0\n",
    "\n",
    "#Tax deliquency flag - assume if it is null then doesn't exist\n",
    "index = df_train.taxdelinquencyflag.isnull()\n",
    "df_train.loc[index,'taxdelinquencyflag'] = \"None\""
   ]
  },
  {
   "cell_type": "code",
   "execution_count": 21,
   "metadata": {},
   "outputs": [
    {
     "name": "stdout",
     "output_type": "stream",
     "text": [
      "True    2365\n",
      "Name: hashottuborspa, dtype: int64\n",
      "1.0    1161\n",
      "Name: pooltypeid10, dtype: int64\n",
      "True    2365\n",
      "Name: hashottuborspa, dtype: int64\n",
      "1.0    1161\n",
      "Name: pooltypeid10, dtype: int64\n"
     ]
    }
   ],
   "source": [
    "# Similar step performed for Pool/Spa/hot tub\n",
    "print(df_train.hashottuborspa.value_counts())\n",
    "print(df_train.pooltypeid10.value_counts())\n",
    "\n",
    "#lets remove 'pooltypeid10' as has more missing values\n",
    "print(df_train.hashottuborspa.value_counts())\n",
    "print(df_train.pooltypeid10.value_counts())\n",
    "\n",
    "#Assume if the pooltype id is null then pool/hottub doesnt exist \n",
    "index = df_train.pooltypeid2.isnull()\n",
    "df_train.loc[index,'pooltypeid2'] = 0\n",
    "\n",
    "index = df_train.pooltypeid7.isnull()\n",
    "df_train.loc[index,'pooltypeid7'] = 0\n",
    "\n",
    "index = df_train.poolcnt.isnull()\n",
    "df_train.loc[index,'poolcnt'] = 0\n",
    "\n",
    "### Label Encoding For Machine Learning & Filling Missing Values ###"
   ]
  },
  {
   "cell_type": "code",
   "execution_count": 22,
   "metadata": {},
   "outputs": [],
   "source": [
    "# We are now label encoding our datasets. All of the machine learning algorithms employed in scikit learn assume that the data being fed to them is in numerical form. LabelEncoding ensures that all of our categorical variables are in numerical representation. Also note that we are filling the missing values in our dataset with a zero before label encoding them. This is to ensure that label encoder function does not experience any problems while carrying out its operation #\n",
    "\n",
    "from sklearn.preprocessing import LabelEncoder  \n",
    "\n",
    "lbl = LabelEncoder()\n",
    "for c in df_train.columns:\n",
    "    df_train[c]=df_train[c].fillna(0)\n",
    "    if df_train[c].dtype == 'object':\n",
    "        lbl.fit(list(df_train[c].values))\n",
    "        df_train[c] = lbl.transform(list(df_train[c].values))\n",
    "\n",
    "for c in df_test.columns:\n",
    "    df_test[c]=df_test[c].fillna(0)\n",
    "    if df_test[c].dtype == 'object':\n",
    "        lbl.fit(list(df_test[c].values))\n",
    "        df_test[c] = lbl.transform(list(df_test[c].values))  "
   ]
  },
  {
   "cell_type": "code",
   "execution_count": 23,
   "metadata": {},
   "outputs": [],
   "source": [
    "### Removing the Outliers\n",
    "\n",
    "log_errors = df_train['logerror']\n",
    "df_train = df_train[df_train.logerror < np.percentile(log_errors, 99.5)]\n",
    "df_train = df_train[df_train.logerror > np.percentile(log_errors, 0.5)]\n",
    "\n",
    "### Rearranging the DataSets ###\n",
    "\n",
    "# We will now drop the features that serve no useful purpose. We will also split our data and divide it into the representation to make it clear which features are to be treated as determinants in predicting the outcome for our target feature. Make sure to include the same features in the test set as were included in the training set #\n",
    "\n",
    "x_train = df_train.drop(['parcelid', 'logerror', 'transactiondate', 'propertyzoningdesc', \n",
    "                         'propertycountylandusecode' ], axis=1)\n",
    "\n",
    "x_test = df_test.drop(['parcelid', 'propertyzoningdesc',\n",
    "                       'propertycountylandusecode', '201610', '201611', \n",
    "                       '201612', '201710', '201711', '201712'], axis = 1) \n",
    "\n",
    "x_train = x_train.values\n",
    "y_train = df_train['logerror'].values\n"
   ]
  },
  {
   "cell_type": "code",
   "execution_count": 24,
   "metadata": {},
   "outputs": [],
   "source": [
    "### Cross Validation ###\n",
    "\n",
    "# We are dividing our datasets into the training and validation sets so that we could monitor and the test the progress of our machine learning algorithm. This would let us know when our model might be over or under fitting on the dataset that we have employed. #\n",
    "\n",
    "from sklearn.model_selection import train_test_split\n",
    "\n",
    "X = x_train\n",
    "y = y_train \n",
    "\n",
    "Xtrain, Xvalid, ytrain, yvalid = train_test_split(X, y, test_size=0.2, random_state=42)\n",
    "\n",
    "###Implement the Xgboost### \n",
    "\n",
    "# We can now select the parameters for Xgboost and monitor the progress of results on our validation set. The explanation of the xgboost parameters and what they do can be found on the following link http://xgboost.readthedocs.io/en/latest/parameter.html #\n",
    "\n",
    "dtrain = xgb.DMatrix(Xtrain, label=ytrain)\n",
    "dvalid = xgb.DMatrix(Xvalid, label=yvalid)\n",
    "dtest = xgb.DMatrix(x_test.values)"
   ]
  },
  {
   "cell_type": "code",
   "execution_count": 25,
   "metadata": {},
   "outputs": [
    {
     "name": "stdout",
     "output_type": "stream",
     "text": [
      "[22:41:01] WARNING: C:/buildkite-agent/builds/buildkite-windows-cpu-autoscaling-group-i-03de431ba26204c4d-1/xgboost/xgboost-ci-windows/src/objective/regression_obj.cu:213: reg:linear is now deprecated in favor of reg:squarederror.\n",
      "[22:41:01] WARNING: C:/buildkite-agent/builds/buildkite-windows-cpu-autoscaling-group-i-03de431ba26204c4d-1/xgboost/xgboost-ci-windows/src/learner.cc:767: \n",
      "Parameters: { \"silent\" } are not used.\n",
      "\n",
      "[0]\ttrain-mae:0.47402\tvalid-mae:0.47191\n"
     ]
    },
    {
     "name": "stderr",
     "output_type": "stream",
     "text": [
      "C:\\Users\\aakas\\AppData\\Local\\Packages\\PythonSoftwareFoundation.Python.3.10_qbz5n2kfra8p0\\LocalCache\\local-packages\\Python310\\site-packages\\xgboost\\core.py:617: FutureWarning: Pass `evals` as keyword args.\n",
      "  warnings.warn(msg, FutureWarning)\n"
     ]
    },
    {
     "name": "stdout",
     "output_type": "stream",
     "text": [
      "[10]\ttrain-mae:0.33433\tvalid-mae:0.33225\n",
      "[20]\ttrain-mae:0.23843\tvalid-mae:0.23656\n",
      "[30]\ttrain-mae:0.17333\tvalid-mae:0.17162\n",
      "[40]\ttrain-mae:0.12969\tvalid-mae:0.12822\n",
      "[50]\ttrain-mae:0.10111\tvalid-mae:0.09986\n",
      "[60]\ttrain-mae:0.08293\tvalid-mae:0.08191\n",
      "[70]\ttrain-mae:0.07183\tvalid-mae:0.07104\n",
      "[80]\ttrain-mae:0.06534\tvalid-mae:0.06478\n",
      "[90]\ttrain-mae:0.06165\tvalid-mae:0.06129\n",
      "[100]\ttrain-mae:0.05959\tvalid-mae:0.05936\n",
      "[110]\ttrain-mae:0.05843\tvalid-mae:0.05831\n",
      "[120]\ttrain-mae:0.05776\tvalid-mae:0.05772\n",
      "[130]\ttrain-mae:0.05737\tvalid-mae:0.05740\n",
      "[140]\ttrain-mae:0.05713\tvalid-mae:0.05721\n",
      "[150]\ttrain-mae:0.05696\tvalid-mae:0.05709\n",
      "[160]\ttrain-mae:0.05685\tvalid-mae:0.05703\n",
      "[170]\ttrain-mae:0.05676\tvalid-mae:0.05697\n",
      "[180]\ttrain-mae:0.05670\tvalid-mae:0.05695\n",
      "[190]\ttrain-mae:0.05665\tvalid-mae:0.05693\n",
      "[200]\ttrain-mae:0.05662\tvalid-mae:0.05693\n",
      "[210]\ttrain-mae:0.05658\tvalid-mae:0.05692\n",
      "[220]\ttrain-mae:0.05654\tvalid-mae:0.05692\n",
      "[230]\ttrain-mae:0.05652\tvalid-mae:0.05692\n",
      "[240]\ttrain-mae:0.05649\tvalid-mae:0.05692\n",
      "[250]\ttrain-mae:0.05646\tvalid-mae:0.05693\n",
      "[260]\ttrain-mae:0.05644\tvalid-mae:0.05692\n",
      "[270]\ttrain-mae:0.05641\tvalid-mae:0.05693\n",
      "[280]\ttrain-mae:0.05639\tvalid-mae:0.05693\n",
      "[290]\ttrain-mae:0.05636\tvalid-mae:0.05693\n",
      "[300]\ttrain-mae:0.05634\tvalid-mae:0.05693\n",
      "[310]\ttrain-mae:0.05631\tvalid-mae:0.05693\n",
      "[318]\ttrain-mae:0.05629\tvalid-mae:0.05693\n"
     ]
    }
   ],
   "source": [
    "# Try different parameters! \n",
    "xgb_params = {'min_child_weight': 5, 'eta': 0.035, 'colsample_bytree': 0.5, 'max_depth': 4,\n",
    "            'subsample': 0.85, 'lambda': 0.8, 'nthread': -1, 'booster' : 'gbtree', 'silent': 1, 'gamma' : 0,\n",
    "            'eval_metric': 'mae', 'objective': 'reg:linear' }           \n",
    "\n",
    "watchlist = [(dtrain, 'train'), (dvalid, 'valid')]\n",
    "\n",
    "model_xgb = xgb.train(xgb_params, dtrain, 1000, watchlist, early_stopping_rounds=100,\n",
    "                  maximize=False, verbose_eval=10)\n",
    "\n",
    "###Predicting the results###\n",
    "\n",
    "# Let us now predict the target variable for our test dataset. All we have to do now is just fit the already trained model on the test set that we had made merging the sample file with properties dataset #\n",
    "\n",
    "Predicted_test_xgb = model_xgb.predict(dtest)"
   ]
  },
  {
   "cell_type": "code",
   "execution_count": 26,
   "metadata": {},
   "outputs": [
    {
     "name": "stdout",
     "output_type": "stream",
     "text": [
      "Preparing the csv file ...\n",
      "Finished writing the file\n"
     ]
    }
   ],
   "source": [
    "### Submitting the Results ###\n",
    "\n",
    "# Once again load the file and start submitting the results in each column #\n",
    "sample_file = pd.read_csv('sample_submission.csv') \n",
    "for c in sample_file.columns[sample_file.columns != 'ParcelId']:\n",
    "    sample_file[c] = Predicted_test_xgb\n",
    "\n",
    "print('Preparing the csv file ...')\n",
    "sample_file.to_csv('xgb_predicted_results.csv', index=False, float_format='%.4f')\n",
    "print(\"Finished writing the file\")"
   ]
  }
 ],
 "metadata": {
  "kernelspec": {
   "display_name": "Python 3.10.8 64-bit (microsoft store)",
   "language": "python",
   "name": "python3"
  },
  "language_info": {
   "codemirror_mode": {
    "name": "ipython",
    "version": 3
   },
   "file_extension": ".py",
   "mimetype": "text/x-python",
   "name": "python",
   "nbconvert_exporter": "python",
   "pygments_lexer": "ipython3",
   "version": "3.10.8"
  },
  "orig_nbformat": 4,
  "vscode": {
   "interpreter": {
    "hash": "33361819892867e0bd947e0a26fa049314aead577d60fb79568bff7a065f295f"
   }
  }
 },
 "nbformat": 4,
 "nbformat_minor": 2
}
